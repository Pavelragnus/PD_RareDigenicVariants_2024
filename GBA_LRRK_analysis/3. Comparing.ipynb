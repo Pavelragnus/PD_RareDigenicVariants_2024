{
 "cells": [
  {
   "cell_type": "code",
   "execution_count": 1,
   "id": "0f14fd04-20d8-4d0d-988d-13cd2eae53e6",
   "metadata": {},
   "outputs": [
    {
     "data": {
      "text/plain": [
       "<Figure size 960x720 with 0 Axes>"
      ]
     },
     "metadata": {},
     "output_type": "display_data"
    }
   ],
   "source": [
    "import pandas as pd\n",
    "import os\n",
    "import seaborn as sns\n",
    "import matplotlib.pyplot as plt\n",
    "%matplotlib inline\n",
    "import numpy as np\n",
    "import warnings\n",
    "warnings.filterwarnings('ignore')\n",
    "import dataframe_image as dfi\n",
    "import re\n",
    "plt.figure(figsize=(8, 6), dpi=120) \n",
    "import matplotlib.pylab as pylab\n",
    "params = {'legend.fontsize': 'x-large',\n",
    "          'figure.figsize': (15, 5),\n",
    "         'axes.labelsize': 'large',\n",
    "         'axes.titlesize':'large',\n",
    "         'xtick.labelsize':'large',\n",
    "         'ytick.labelsize':'large'}\n",
    "pylab.rcParams.update(params)"
   ]
  },
  {
   "cell_type": "code",
   "execution_count": 2,
   "id": "ba1877f5-2ad2-4112-bffe-8f7ee4e59c36",
   "metadata": {},
   "outputs": [],
   "source": [
    "first = 'NM_198578.4:c.6055G>A'"
   ]
  },
  {
   "cell_type": "code",
   "execution_count": 3,
   "id": "3ef852df-5c7f-4f9e-b76d-a038c5b60beb",
   "metadata": {},
   "outputs": [],
   "source": [
    "second = 'NM_003041.4:c.1961A>G'"
   ]
  },
  {
   "cell_type": "code",
   "execution_count": 4,
   "id": "8ad7d5ef-aaca-4b58-972b-f0b87553e421",
   "metadata": {},
   "outputs": [],
   "source": [
    "folder = 'Mutations_strong'"
   ]
  },
  {
   "cell_type": "code",
   "execution_count": 5,
   "id": "f7b92bd5-a625-414a-b11e-303df17318e9",
   "metadata": {},
   "outputs": [
    {
     "data": {
      "text/html": [
       "<div>\n",
       "<style scoped>\n",
       "    .dataframe tbody tr th:only-of-type {\n",
       "        vertical-align: middle;\n",
       "    }\n",
       "\n",
       "    .dataframe tbody tr th {\n",
       "        vertical-align: top;\n",
       "    }\n",
       "\n",
       "    .dataframe thead th {\n",
       "        text-align: right;\n",
       "    }\n",
       "</style>\n",
       "<table border=\"1\" class=\"dataframe\">\n",
       "  <thead>\n",
       "    <tr style=\"text-align: right;\">\n",
       "      <th></th>\n",
       "      <th>Mutation1</th>\n",
       "      <th>Mutation2</th>\n",
       "      <th>N cases</th>\n",
       "      <th>N control</th>\n",
       "      <th>MAF in cases</th>\n",
       "      <th>MAF in control</th>\n",
       "      <th>Mutation1 only</th>\n",
       "      <th>N cases Mutation1</th>\n",
       "      <th>N control Mutation1</th>\n",
       "      <th>MAF in cases Mutation1</th>\n",
       "      <th>MAF in control Mutation1</th>\n",
       "      <th>Mutation2 only</th>\n",
       "      <th>N cases Mutation2</th>\n",
       "      <th>N control Mutation2</th>\n",
       "      <th>MAF in cases Mutation2</th>\n",
       "      <th>MAF in control Mutation2</th>\n",
       "    </tr>\n",
       "  </thead>\n",
       "  <tbody>\n",
       "    <tr>\n",
       "      <th>538</th>\n",
       "      <td>LRRK2 NM_198578.4:c.6055G&gt;A</td>\n",
       "      <td>SLC5A2 NM_003041.4:c.1961A&gt;G</td>\n",
       "      <td>17</td>\n",
       "      <td>4</td>\n",
       "      <td>0.003683</td>\n",
       "      <td>0.000621</td>\n",
       "      <td>LRRK2 NM_198578.4:c.6055G&gt;A</td>\n",
       "      <td>231</td>\n",
       "      <td>61</td>\n",
       "      <td>0.050043</td>\n",
       "      <td>0.009475</td>\n",
       "      <td>SLC5A2 NM_003041.4:c.1961A&gt;G</td>\n",
       "      <td>61</td>\n",
       "      <td>81</td>\n",
       "      <td>0.013215</td>\n",
       "      <td>0.012582</td>\n",
       "    </tr>\n",
       "    <tr>\n",
       "      <th>111</th>\n",
       "      <td>SLC5A2 NM_003041.4:c.1961A&gt;G</td>\n",
       "      <td>WFS1 NM_006005.3:c.2452C&gt;T</td>\n",
       "      <td>3</td>\n",
       "      <td>2</td>\n",
       "      <td>0.000650</td>\n",
       "      <td>0.000311</td>\n",
       "      <td>SLC5A2 NM_003041.4:c.1961A&gt;G</td>\n",
       "      <td>61</td>\n",
       "      <td>81</td>\n",
       "      <td>0.013215</td>\n",
       "      <td>0.012582</td>\n",
       "      <td>WFS1 NM_006005.3:c.2452C&gt;T</td>\n",
       "      <td>38</td>\n",
       "      <td>55</td>\n",
       "      <td>0.008232</td>\n",
       "      <td>0.008543</td>\n",
       "    </tr>\n",
       "    <tr>\n",
       "      <th>49</th>\n",
       "      <td>SLC5A2 NM_003041.4:c.1961A&gt;G</td>\n",
       "      <td>TMPRSS3 NM_001256317.3:c.325C&gt;T</td>\n",
       "      <td>3</td>\n",
       "      <td>0</td>\n",
       "      <td>0.000650</td>\n",
       "      <td>0.000000</td>\n",
       "      <td>SLC5A2 NM_003041.4:c.1961A&gt;G</td>\n",
       "      <td>61</td>\n",
       "      <td>81</td>\n",
       "      <td>0.013215</td>\n",
       "      <td>0.012582</td>\n",
       "      <td>TMPRSS3 NM_001256317.3:c.325C&gt;T</td>\n",
       "      <td>5</td>\n",
       "      <td>2</td>\n",
       "      <td>0.001083</td>\n",
       "      <td>0.000311</td>\n",
       "    </tr>\n",
       "    <tr>\n",
       "      <th>36</th>\n",
       "      <td>SLC5A2 NM_003041.4:c.1961A&gt;G</td>\n",
       "      <td>TBX15 NM_001330677.2:c.1325G&gt;A</td>\n",
       "      <td>3</td>\n",
       "      <td>0</td>\n",
       "      <td>0.000650</td>\n",
       "      <td>0.000000</td>\n",
       "      <td>SLC5A2 NM_003041.4:c.1961A&gt;G</td>\n",
       "      <td>61</td>\n",
       "      <td>81</td>\n",
       "      <td>0.013215</td>\n",
       "      <td>0.012582</td>\n",
       "      <td>TBX15 NM_001330677.2:c.1325G&gt;A</td>\n",
       "      <td>9</td>\n",
       "      <td>7</td>\n",
       "      <td>0.001950</td>\n",
       "      <td>0.001087</td>\n",
       "    </tr>\n",
       "    <tr>\n",
       "      <th>34</th>\n",
       "      <td>SLC5A2 NM_003041.4:c.1961A&gt;G</td>\n",
       "      <td>TAP1 NM_000593.6:c.1547C&gt;T</td>\n",
       "      <td>2</td>\n",
       "      <td>2</td>\n",
       "      <td>0.000433</td>\n",
       "      <td>0.000311</td>\n",
       "      <td>SLC5A2 NM_003041.4:c.1961A&gt;G</td>\n",
       "      <td>61</td>\n",
       "      <td>81</td>\n",
       "      <td>0.013215</td>\n",
       "      <td>0.012582</td>\n",
       "      <td>TAP1 NM_000593.6:c.1547C&gt;T</td>\n",
       "      <td>30</td>\n",
       "      <td>23</td>\n",
       "      <td>0.006499</td>\n",
       "      <td>0.003573</td>\n",
       "    </tr>\n",
       "  </tbody>\n",
       "</table>\n",
       "</div>"
      ],
      "text/plain": [
       "                        Mutation1                        Mutation2 N cases  \\\n",
       "538   LRRK2 NM_198578.4:c.6055G>A     SLC5A2 NM_003041.4:c.1961A>G      17   \n",
       "111  SLC5A2 NM_003041.4:c.1961A>G       WFS1 NM_006005.3:c.2452C>T       3   \n",
       "49   SLC5A2 NM_003041.4:c.1961A>G  TMPRSS3 NM_001256317.3:c.325C>T       3   \n",
       "36   SLC5A2 NM_003041.4:c.1961A>G   TBX15 NM_001330677.2:c.1325G>A       3   \n",
       "34   SLC5A2 NM_003041.4:c.1961A>G       TAP1 NM_000593.6:c.1547C>T       2   \n",
       "\n",
       "    N control  MAF in cases  MAF in control                Mutation1 only  \\\n",
       "538         4      0.003683        0.000621   LRRK2 NM_198578.4:c.6055G>A   \n",
       "111         2      0.000650        0.000311  SLC5A2 NM_003041.4:c.1961A>G   \n",
       "49          0      0.000650        0.000000  SLC5A2 NM_003041.4:c.1961A>G   \n",
       "36          0      0.000650        0.000000  SLC5A2 NM_003041.4:c.1961A>G   \n",
       "34          2      0.000433        0.000311  SLC5A2 NM_003041.4:c.1961A>G   \n",
       "\n",
       "    N cases Mutation1 N control Mutation1  MAF in cases Mutation1  \\\n",
       "538               231                  61                0.050043   \n",
       "111                61                  81                0.013215   \n",
       "49                 61                  81                0.013215   \n",
       "36                 61                  81                0.013215   \n",
       "34                 61                  81                0.013215   \n",
       "\n",
       "     MAF in control Mutation1                   Mutation2 only  \\\n",
       "538                  0.009475     SLC5A2 NM_003041.4:c.1961A>G   \n",
       "111                  0.012582       WFS1 NM_006005.3:c.2452C>T   \n",
       "49                   0.012582  TMPRSS3 NM_001256317.3:c.325C>T   \n",
       "36                   0.012582   TBX15 NM_001330677.2:c.1325G>A   \n",
       "34                   0.012582       TAP1 NM_000593.6:c.1547C>T   \n",
       "\n",
       "    N cases Mutation2 N control Mutation2  MAF in cases Mutation2  \\\n",
       "538                61                  81                0.013215   \n",
       "111                38                  55                0.008232   \n",
       "49                  5                   2                0.001083   \n",
       "36                  9                   7                0.001950   \n",
       "34                 30                  23                0.006499   \n",
       "\n",
       "     MAF in control Mutation2  \n",
       "538                  0.012582  \n",
       "111                  0.008543  \n",
       "49                   0.000311  \n",
       "36                   0.001087  \n",
       "34                   0.003573  "
      ]
     },
     "execution_count": 5,
     "metadata": {},
     "output_type": "execute_result"
    }
   ],
   "source": [
    "from functions_Park import genetic_description\n",
    "genetic_description (folder, first, second)"
   ]
  },
  {
   "cell_type": "code",
   "execution_count": 6,
   "id": "db62c9dc-eecd-49d2-91b0-28a64baa6d0d",
   "metadata": {},
   "outputs": [],
   "source": [
    "from functions_Park import all_mutations\n",
    "df_all = all_mutations(folder)"
   ]
  },
  {
   "cell_type": "code",
   "execution_count": 7,
   "id": "fe5e4f4c-da28-4381-934c-4c7dd19bd2be",
   "metadata": {},
   "outputs": [],
   "source": [
    "from functions_Park import combinations_of_mutations\n",
    "df_comb = combinations_of_mutations(first, second)"
   ]
  },
  {
   "cell_type": "code",
   "execution_count": 8,
   "id": "772faeca-d2fa-4ec8-a7e0-51460b66287a",
   "metadata": {},
   "outputs": [],
   "source": [
    "from functions_Park import first_mutation\n",
    "df_first = first_mutation(first, second)"
   ]
  },
  {
   "cell_type": "code",
   "execution_count": 9,
   "id": "8bd973ea-bc7c-45c2-9177-2d4cd8030380",
   "metadata": {},
   "outputs": [],
   "source": [
    "from functions_Park import second_mutation\n",
    "df_second = second_mutation(first, second)"
   ]
  },
  {
   "cell_type": "code",
   "execution_count": 10,
   "id": "18a5c948-d2f9-43ac-b1cc-1c7c33976e76",
   "metadata": {},
   "outputs": [],
   "source": [
    "from functions_Park import no_mutations\n",
    "df_no = no_mutations(first, second)"
   ]
  },
  {
   "cell_type": "code",
   "execution_count": 11,
   "id": "274a30ca-2e1d-40e5-a88c-ac510a109a62",
   "metadata": {},
   "outputs": [
    {
     "name": "stdout",
     "output_type": "stream",
     "text": [
      "Kruskal test:13.793658476867796, p-value: 0.003199907185338526\n",
      "Number of men in first mutation: 131\n",
      "Number of female in first mutation: 140\n",
      "Number of men in second mutation: 57\n",
      "Number of female in second mutation: 64\n",
      "Number of cases in first mutation: 214\n",
      "Number of controls in first mutation: 57\n",
      "Number of cases in second mutation: 44\n",
      "Number of controls in second mutation: 77\n",
      "Number of men in combination: 8\n",
      "Number of female in combination: 13\n",
      "Number of men in no mutations: 2791\n",
      "Number of female in no mutations: 2325\n",
      "Number of cases in combination: 17\n",
      "Number of controls in combination: 4\n",
      "Number of cases in no mutations: 2035\n",
      "Number of controls in no mutations: 3081\n",
      "Age of patients with first mutation: 66.62616822429906\n",
      "Age of patients with second mutation: 63.63636363636363\n",
      "Age of patients with combination: 70.6470588235294\n",
      "Age of patients with no mutations: 64.42063882063881\n",
      "F Test: statistic=13.7937, p-value=0.0032\n"
     ]
    },
    {
     "data": {
      "text/html": [
       "<div>\n",
       "<style scoped>\n",
       "    .dataframe tbody tr th:only-of-type {\n",
       "        vertical-align: middle;\n",
       "    }\n",
       "\n",
       "    .dataframe tbody tr th {\n",
       "        vertical-align: top;\n",
       "    }\n",
       "\n",
       "    .dataframe thead th {\n",
       "        text-align: right;\n",
       "    }\n",
       "</style>\n",
       "<table border=\"1\" class=\"dataframe\">\n",
       "  <thead>\n",
       "    <tr style=\"text-align: right;\">\n",
       "      <th></th>\n",
       "      <th>First mutation</th>\n",
       "      <th>Second Mutation</th>\n",
       "      <th>Combination</th>\n",
       "      <th>No mutation</th>\n",
       "    </tr>\n",
       "  </thead>\n",
       "  <tbody>\n",
       "    <tr>\n",
       "      <th>Male</th>\n",
       "      <td>131.000000</td>\n",
       "      <td>57.000000</td>\n",
       "      <td>8.000000</td>\n",
       "      <td>2791.000000</td>\n",
       "    </tr>\n",
       "    <tr>\n",
       "      <th>Female</th>\n",
       "      <td>140.000000</td>\n",
       "      <td>64.000000</td>\n",
       "      <td>13.000000</td>\n",
       "      <td>2325.000000</td>\n",
       "    </tr>\n",
       "    <tr>\n",
       "      <th>Case</th>\n",
       "      <td>214.000000</td>\n",
       "      <td>44.000000</td>\n",
       "      <td>17.000000</td>\n",
       "      <td>2035.000000</td>\n",
       "    </tr>\n",
       "    <tr>\n",
       "      <th>Control</th>\n",
       "      <td>57.000000</td>\n",
       "      <td>77.000000</td>\n",
       "      <td>4.000000</td>\n",
       "      <td>3081.000000</td>\n",
       "    </tr>\n",
       "    <tr>\n",
       "      <th>Age</th>\n",
       "      <td>66.626168</td>\n",
       "      <td>63.636364</td>\n",
       "      <td>70.647059</td>\n",
       "      <td>64.420639</td>\n",
       "    </tr>\n",
       "  </tbody>\n",
       "</table>\n",
       "</div>"
      ],
      "text/plain": [
       "         First mutation  Second Mutation  Combination  No mutation\n",
       "Male         131.000000        57.000000     8.000000  2791.000000\n",
       "Female       140.000000        64.000000    13.000000  2325.000000\n",
       "Case         214.000000        44.000000    17.000000  2035.000000\n",
       "Control       57.000000        77.000000     4.000000  3081.000000\n",
       "Age           66.626168        63.636364    70.647059    64.420639"
      ]
     },
     "execution_count": 11,
     "metadata": {},
     "output_type": "execute_result"
    },
    {
     "data": {
      "image/png": "[encoded data removed]",
      "text/plain": [
       "<Figure size 1500x500 with 1 Axes>"
      ]
     },
     "metadata": {},
     "output_type": "display_data"
    }
   ],
   "source": [
    "from functions_Park import comparing_demography\n",
    "comparing_demography(df_first, df_second, df_comb, df_no)\n",
    "\n"
   ]
  },
  {
   "cell_type": "code",
   "execution_count": 12,
   "id": "e721b4d8-17ee-4843-b040-a3ab5063e6cb",
   "metadata": {},
   "outputs": [
    {
     "name": "stdout",
     "output_type": "stream",
     "text": [
      "Kruskal Test: statistic=0.6978, p-value=0.8737\n"
     ]
    },
    {
     "data": {
      "text/html": [
       "<div>\n",
       "<style scoped>\n",
       "    .dataframe tbody tr th:only-of-type {\n",
       "        vertical-align: middle;\n",
       "    }\n",
       "\n",
       "    .dataframe tbody tr th {\n",
       "        vertical-align: top;\n",
       "    }\n",
       "\n",
       "    .dataframe thead th {\n",
       "        text-align: right;\n",
       "    }\n",
       "</style>\n",
       "<table border=\"1\" class=\"dataframe\">\n",
       "  <thead>\n",
       "    <tr style=\"text-align: right;\">\n",
       "      <th></th>\n",
       "      <th>First mutation</th>\n",
       "      <th>Second mutation</th>\n",
       "      <th>Combination</th>\n",
       "      <th>No mutation</th>\n",
       "    </tr>\n",
       "  </thead>\n",
       "  <tbody>\n",
       "    <tr>\n",
       "      <th>Mean MOCA</th>\n",
       "      <td>26.093972</td>\n",
       "      <td>26.198198</td>\n",
       "      <td>26.142857</td>\n",
       "      <td>26.121846</td>\n",
       "    </tr>\n",
       "  </tbody>\n",
       "</table>\n",
       "</div>"
      ],
      "text/plain": [
       "           First mutation  Second mutation  Combination  No mutation\n",
       "Mean MOCA       26.093972        26.198198    26.142857    26.121846"
      ]
     },
     "execution_count": 12,
     "metadata": {},
     "output_type": "execute_result"
    },
    {
     "data": {
      "image/png": "[encoded data removed]",
      "text/plain": [
       "<Figure size 1500x500 with 1 Axes>"
      ]
     },
     "metadata": {},
     "output_type": "display_data"
    }
   ],
   "source": [
    "from functions_Park import comparing_MOCA\n",
    "comparing_MOCA(df_first, df_second, df_comb, df_no)\n"
   ]
  },
  {
   "cell_type": "code",
   "execution_count": 13,
   "id": "0d9e164d-02db-44b6-9b77-d093ebcb695b",
   "metadata": {},
   "outputs": [
    {
     "name": "stdout",
     "output_type": "stream",
     "text": [
      "Kruskal Test: statistic=63.8856, p-value=0.0000\n"
     ]
    },
    {
     "data": {
      "text/html": [
       "<div>\n",
       "<style scoped>\n",
       "    .dataframe tbody tr th:only-of-type {\n",
       "        vertical-align: middle;\n",
       "    }\n",
       "\n",
       "    .dataframe tbody tr th {\n",
       "        vertical-align: top;\n",
       "    }\n",
       "\n",
       "    .dataframe thead th {\n",
       "        text-align: right;\n",
       "    }\n",
       "</style>\n",
       "<table border=\"1\" class=\"dataframe\">\n",
       "  <thead>\n",
       "    <tr style=\"text-align: right;\">\n",
       "      <th></th>\n",
       "      <th>First mutation</th>\n",
       "      <th>Second mutation</th>\n",
       "      <th>Combination</th>\n",
       "      <th>No mutation</th>\n",
       "    </tr>\n",
       "  </thead>\n",
       "  <tbody>\n",
       "    <tr>\n",
       "      <th>Mean UPDRS</th>\n",
       "      <td>21.534333</td>\n",
       "      <td>22.261803</td>\n",
       "      <td>24.074074</td>\n",
       "      <td>24.520394</td>\n",
       "    </tr>\n",
       "  </tbody>\n",
       "</table>\n",
       "</div>"
      ],
      "text/plain": [
       "            First mutation  Second mutation  Combination  No mutation\n",
       "Mean UPDRS       21.534333        22.261803    24.074074    24.520394"
      ]
     },
     "execution_count": 13,
     "metadata": {},
     "output_type": "execute_result"
    },
    {
     "data": {
      "image/png": "[encoded data removed]",
      "text/plain": [
       "<Figure size 1500x500 with 1 Axes>"
      ]
     },
     "metadata": {},
     "output_type": "display_data"
    }
   ],
   "source": [
    "from functions_Park import comparing_UPDRS\n",
    "comparing_UPDRS(df_first, df_second, df_comb, df_no)"
   ]
  },
  {
   "cell_type": "code",
   "execution_count": null,
   "id": "d6fee45e-18bc-4faa-9201-8bc7f01bb2fa",
   "metadata": {},
   "outputs": [],
   "source": []
  }
 ],
 "metadata": {
  "kernelspec": {
   "display_name": "Python 3 (ipykernel)",
   "language": "python",
   "name": "python3"
  },
  "language_info": {
   "codemirror_mode": {
    "name": "ipython",
    "version": 3
   },
   "file_extension": ".py",
   "mimetype": "text/x-python",
   "name": "python",
   "nbconvert_exporter": "python",
   "pygments_lexer": "ipython3",
   "version": "3.9.13"
  }
 },
 "nbformat": 4,
 "nbformat_minor": 5
}
